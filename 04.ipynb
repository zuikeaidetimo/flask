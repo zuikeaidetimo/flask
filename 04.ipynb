{
 "cells": [
  {
   "cell_type": "markdown",
   "metadata": {},
   "source": [
    "### flask 와 Rest API\n",
    "- HTML 언어는 프론트엔드 강의에서 보다 상세하게 다루며, 본 강의에서는 파이썬 기초와 크롤링 부트캠프에서 설명한 HTML 태그 구조에 대한 이해만을 기반으로 함"
   ]
  },
  {
   "cell_type": "markdown",
   "metadata": {},
   "source": [
    "### 정적 페이지 리턴하기(HTML)\n",
    "- 복잡한 URI를 함수로 쉽게 연결하는 방법 제공\n",
    "- h1 ~ h6 는 HTML 제목 태그"
   ]
  },
  {
   "cell_type": "code",
   "execution_count": 2,
   "metadata": {},
   "outputs": [
    {
     "name": "stderr",
     "output_type": "stream",
     "text": [
      " * Running on http://0.0.0.0:8080/ (Press CTRL+C to quit)\n",
      "127.0.0.1 - - [27/Oct/2020 17:03:43] \"\u001b[37mGET /first HTTP/1.1\u001b[0m\" 200 -\n",
      "127.0.0.1 - - [27/Oct/2020 17:03:43] \"\u001b[33mGET /favicon.ico HTTP/1.1\u001b[0m\" 404 -\n",
      "127.0.0.1 - - [27/Oct/2020 17:03:47] \"\u001b[37mGET /hello HTTP/1.1\u001b[0m\" 200 -\n",
      "127.0.0.1 - - [27/Oct/2020 17:03:50] \"\u001b[37mGET / HTTP/1.1\u001b[0m\" 200 -\n"
     ]
    }
   ],
   "source": [
    "from flask import Flask\n",
    "\n",
    "app = Flask(__name__)\n",
    "@app.route(\"/\")\n",
    "def hello():\n",
    "    return \"<h1>Hello World!</h1>\"\n",
    "\n",
    "@app.route(\"/hello\")\n",
    "def hello_flask():\n",
    "    return \"<h1>Hello Flask!</h1>\"\n",
    "\n",
    "@app.route(\"/first\")\n",
    "def hello_first():\n",
    "    return \"<h3>Hello First</h3>\"\n",
    "\n",
    "if __name__ == \"__main__\":\n",
    "    app.run(host=\"0.0.0.0\", port=8080)"
   ]
  },
  {
   "cell_type": "markdown",
   "metadata": {},
   "source": [
    "### 복잡한 라우팅: 데이터 전달하기\n",
    "- URI를 변수로 사용\n",
    "    - 다음 코드 추가 후, http://0.0.0.0:8080/profile/teemo 접속\n",
    "\n",
    "```python\n",
    "@app.route(\"/profile/<username>\")\n",
    "def get_profile(username):\n",
    "    return \"profile: \" + username\n",
    "```"
   ]
  },
  {
   "cell_type": "code",
   "execution_count": 5,
   "metadata": {},
   "outputs": [
    {
     "name": "stderr",
     "output_type": "stream",
     "text": [
      " * Running on http://0.0.0.0:8080/ (Press CTRL+C to quit)\n",
      "127.0.0.1 - - [28/Oct/2020 11:46:49] \"\u001b[37mGET /profile/김진영 HTTP/1.1\u001b[0m\" 200 -\n"
     ]
    }
   ],
   "source": [
    "from flask import Flask\n",
    "\n",
    "app = Flask(__name__)\n",
    "@app.route(\"/\")\n",
    "def hello():\n",
    "    return \"<h1>Hello</h1>\"\n",
    "\n",
    "@app.route(\"/profile/<username>\")\n",
    "def get_profile(username):\n",
    "    return \"profile: \" + username\n",
    "\n",
    "@app.route(\"/first/<username>\")\n",
    "def get_first(username):\n",
    "    return \"<h3>Hello \" + username + \"!</h3>\"\n",
    "\n",
    "if __name__ == \"__main__\":\n",
    "    app.run(host=\"0.0.0.0\", port=8080)"
   ]
  },
  {
   "cell_type": "markdown",
   "metadata": {},
   "source": [
    "#### 실습하기\n",
    "http://0.0.0.0:8080/first/userid 로 접속시, h3 태그로 Hello userid ! 출력하기"
   ]
  },
  {
   "cell_type": "markdown",
   "metadata": {},
   "source": [
    "- URI를 변수로 사용, 변수에 데이터 타입도 줄 수 있음\n",
    "    - 데이터 타입이 없으면 문자열로 인식\n",
    "    - int 이외에 float도 데이터 타입으로 줄 수 있음\n",
    "    - 다음 코드 추가 후, http://0.0.0.0:8080/message/1 접속"
   ]
  },
  {
   "cell_type": "code",
   "execution_count": 7,
   "metadata": {},
   "outputs": [],
   "source": [
    "@app.route(\"/message/<int:message_id>\")\n",
    "def get_message(message_id):\n",
    "    return \"message id: \" + message_id"
   ]
  },
  {
   "cell_type": "code",
   "execution_count": 10,
   "metadata": {},
   "outputs": [
    {
     "name": "stderr",
     "output_type": "stream",
     "text": [
      " * Running on http://0.0.0.0:8080/ (Press CTRL+C to quit)\n",
      "127.0.0.1 - - [28/Oct/2020 13:14:28] \"\u001b[37mGET / HTTP/1.1\u001b[0m\" 200 -\n",
      "127.0.0.1 - - [28/Oct/2020 13:14:31] \"\u001b[37mGET /message/1 HTTP/1.1\u001b[0m\" 200 -\n",
      "127.0.0.1 - - [28/Oct/2020 13:14:36] \"\u001b[37mGET /first/1 HTTP/1.1\u001b[0m\" 200 -\n"
     ]
    }
   ],
   "source": [
    "from flask import Flask\n",
    "\n",
    "app = Flask(__name__)\n",
    "\n",
    "def add_file(data):\n",
    "    return data + 5\n",
    "\n",
    "@app.route(\"/\")\n",
    "def hello():\n",
    "    return \"<h1>Hello World!</h1>\"\n",
    "\n",
    "@app.route(\"/message/<int:message_id>\")\n",
    "def get_message(message_id):\n",
    "    return \"message id: %d\" % message_id   # d는 int, %f는 float, %s는 string\n",
    "\n",
    "@app.route(\"/first/<int:messageid>\")\n",
    "def get_first(messageid):\n",
    "    data = add_file(messageid)\n",
    "    return \"<h1>%d</h1>\" % (data)\n",
    "\n",
    "if __name__ == \"__main__\":\n",
    "    app.run(host=\"0.0.0.0\", port=8080)\n",
    "\n"
   ]
  },
  {
   "cell_type": "markdown",
   "metadata": {},
   "source": [
    "### flask로 REST API 구현하기\n",
    "\n",
    "### HTTP(Hypertet Transfer Protocol)\n",
    "- Server/Client 모델로 Request/Response 사용\n",
    "    - Client에서 요청(Request)을 보내면, Server에서 응답(Response)을 준다\n",
    "    - HTTP는 Connectionless 한 프로토콜임 - 1회성 Request 및 Response\n",
    "    - TCP/IP socket을 이용해서 연결됨\n",
    "\n",
    "> 프로토콜(protocol): 컴퓨터간 통신을 하기 위한 규칙"
   ]
  },
  {
   "cell_type": "markdown",
   "metadata": {},
   "source": [
    "### HTTP(Hypertext Transfer Protocol) Request/Response\n",
    "- Request  \n",
    "GET/HTTP/1.1 (HTTP Method)(Path:ex)/index.html)(HTTP 버전) ----> HTTP Request-Line  \n",
    "Host:www.fun-coding.org                                    \n",
    "Connection: keep-alive ----> HTTP Request-Header                                         \n",
    "(공백)----> HTTP Request-Body (필요시)  "
   ]
  },
  {
   "cell_type": "markdown",
   "metadata": {},
   "source": [
    "### HTTP(Hypertext Transfer Protocol) Request/Response\n",
    "- Response  \n",
    "HTTP/1.1 200 OK(HTTP 버전)(Status Code)(Status Message) ----> HTTP Response-Line  \n",
    "Server: Apache + 웹 서버 정보  \n",
    "Content-type: text/html - MIME 타입  \n",
    "Content-length: 107 - HTTP Body 길이 ----> HTTP Response-Header  \n",
    "<html><head></head> - HTML 데이터 ----> HTTP Response-Body"
   ]
  },
  {
   "cell_type": "markdown",
   "metadata": {},
   "source": [
    "### REST\n",
    "- REST(REpresentational State Transfer)\n",
    "    - 자원(resource)의 표현(representation)에 의한 상태 전달\n",
    "    - HTTP URI를 통해 자원을 명시하고, HTTP Method를 통해 자원에 대한 CRUD Operation 적용\n",
    "        - CRUD Operation와 HTTP Method\n",
    "            - Create: 생성(POST)\n",
    "            - Read: 조회(GET)\n",
    "            - Update: 수정(PUT)\n",
    "            - Delete: 삭제(DELETE)"
   ]
  },
  {
   "cell_type": "markdown",
   "metadata": {},
   "source": [
    "### REST API\n",
    "- REST 기반으로 서비스 API를 구현한 것\n",
    "- 마이크로 서비스, OpenAPI(누구나 사용하도록 공개된 API) 등에서 많이 사용됨\n",
    "> 보다 상세한 내용은 별도 챕터를 통해 네트워크와 함께 이해"
   ]
  },
  {
   "cell_type": "markdown",
   "metadata": {},
   "source": [
    "### flask로 REST API 구현 방법\n",
    "- 특정한 URI를 요청하면 JSON 형식으로 데이터를 반환하도록 만들면 됨\n",
    "- 즉, 웹주소(URI) 요청에 대한 응답(Response)를 JSON 형식으로 작성\n",
    "- Flask에서는 dict(사전) 데이터를 응답 데이터로 만들고, 이를 jsonify() 메서드를 사용해서 JSON 응답 데이터로 만들 수 있음"
   ]
  },
  {
   "cell_type": "markdown",
   "metadata": {},
   "source": [
    "### REST API 테스트를 위한 준비\n",
    "\n",
    "### httpie 설치\n",
    "- https://httpie.irg/\n",
    "- 윈도우\n",
    "```python\n",
    "pip install --upgrade pip setuptools\n",
    "pip install --upgrade hpptie\n",
    "```\n",
    "- 맥\n",
    "    - Homebrew가 설치 안되었다면\n",
    "        - https://brew.sh/index_ko 가이드에 따라 Homebrew 설치\n",
    "    - Homebrew 설치 후\n",
    "```python\n",
    "    brew install httpie\n",
    "```\n",
    "\n",
    "> 맥에서는 터미널 프로그램으로 현업에서는 iterm2 를 많이 사용함  \n",
    "> iterm2 다운로드 및 설치는 해당 사이트 참조: https://www.iterms2.com/"
   ]
  },
  {
   "cell_type": "code",
   "execution_count": 13,
   "metadata": {},
   "outputs": [
    {
     "name": "stdout",
     "output_type": "stream",
     "text": [
      "Collecting pip"
     ]
    },
    {
     "name": "stderr",
     "output_type": "stream",
     "text": [
      "ERROR: Could not install packages due to an EnvironmentError: [WinError 5] 액세스가 거부되었습니다: 'C:\\\\Users\\\\Teemo\\\\AppData\\\\Local\\\\Temp\\\\pip-uninstall-4l0kad6p\\\\pip.exe'\n",
      "Consider using the `--user` option or check the permissions.\n",
      "\n"
     ]
    },
    {
     "name": "stdout",
     "output_type": "stream",
     "text": [
      "\n",
      "  Downloading pip-20.2.4-py2.py3-none-any.whl (1.5 MB)\n",
      "Requirement already up-to-date: setuptools in c:\\users\\teemo\\appdata\\local\\continuum\\anaconda3\\lib\\site-packages (50.3.2)\n",
      "Installing collected packages: pip\n",
      "  Attempting uninstall: pip\n",
      "    Found existing installation: pip 20.2.2\n",
      "    Uninstalling pip-20.2.2:\n",
      "      Successfully uninstalled pip-20.2.2\n",
      "Requirement already up-to-date: httpie in c:\\users\\teemo\\appdata\\local\\continuum\\anaconda3\\lib\\site-packages (2.3.0)\n",
      "Requirement already satisfied, skipping upgrade: colorama>=0.2.4; sys_platform == \"win32\" in c:\\users\\teemo\\appdata\\local\\continuum\\anaconda3\\lib\\site-packages (from httpie) (0.4.3)\n",
      "Requirement already satisfied, skipping upgrade: requests[socks]>=2.22.0 in c:\\users\\teemo\\appdata\\local\\continuum\\anaconda3\\lib\\site-packages (from httpie) (2.24.0)\n",
      "Requirement already satisfied, skipping upgrade: requests-toolbelt>=0.9.1 in c:\\users\\teemo\\appdata\\local\\continuum\\anaconda3\\lib\\site-packages (from httpie) (0.9.1)\n",
      "Requirement already satisfied, skipping upgrade: Pygments>=2.5.2 in c:\\users\\teemo\\appdata\\local\\continuum\\anaconda3\\lib\\site-packages (from httpie) (2.7.2)\n",
      "Requirement already satisfied, skipping upgrade: chardet<4,>=3.0.2 in c:\\users\\teemo\\appdata\\local\\continuum\\anaconda3\\lib\\site-packages (from requests[socks]>=2.22.0->httpie) (3.0.4)\n",
      "Requirement already satisfied, skipping upgrade: idna<3,>=2.5 in c:\\users\\teemo\\appdata\\local\\continuum\\anaconda3\\lib\\site-packages (from requests[socks]>=2.22.0->httpie) (2.9)\n",
      "Requirement already satisfied, skipping upgrade: urllib3!=1.25.0,!=1.25.1,<1.26,>=1.21.1 in c:\\users\\teemo\\appdata\\local\\continuum\\anaconda3\\lib\\site-packages (from requests[socks]>=2.22.0->httpie) (1.25.9)\n",
      "Requirement already satisfied, skipping upgrade: certifi>=2017.4.17 in c:\\users\\teemo\\appdata\\local\\continuum\\anaconda3\\lib\\site-packages (from requests[socks]>=2.22.0->httpie) (2020.6.20)\n",
      "Requirement already satisfied, skipping upgrade: PySocks!=1.5.7,>=1.5.6; extra == \"socks\" in c:\\users\\teemo\\appdata\\local\\continuum\\anaconda3\\lib\\site-packages (from requests[socks]>=2.22.0->httpie) (1.6.8)\n"
     ]
    }
   ],
   "source": [
    "!pip install --upgrade pip setuptools\n",
    "!pip install --upgrade httpie"
   ]
  },
  {
   "cell_type": "markdown",
   "metadata": {},
   "source": [
    "### httpie 사용법\n",
    "- http HTTP 메서드 URI\n",
    "    -HTTP 메서드를 쓰지않으면, 디폴트로 GET\n",
    "```bash\n",
    "http GET http://localhost:8080/json_test\n",
    "```\n",
    "- http -v URI\n",
    "    - 송신 HTTP 프로토콜 데이터도 함께 출력\n",
    "```bash\n",
    "http -v GET http://localhost:8080/json_test\n",
    "```"
   ]
  },
  {
   "cell_type": "markdown",
   "metadata": {},
   "source": [
    "### flask jsonify() 함수\n",
    "- 리턴 데이터를 JSON 포맷으로 제공\n",
    "> 혹시 JSON 포맷에 대한 이해가 필요할 시에는 파이썬 입문과 크롤링 부트캠프 또는 처음하는 파이썬 데이터 분석 강의 수강"
   ]
  },
  {
   "cell_type": "markdown",
   "metadata": {},
   "source": [
    "### REST API 구현"
   ]
  },
  {
   "cell_type": "code",
   "execution_count": 23,
   "metadata": {},
   "outputs": [],
   "source": [
    "from flask import Flask, jsonify\n",
    "app = Flask(__name__)"
   ]
  },
  {
   "cell_type": "markdown",
   "metadata": {},
   "source": [
    "- data를 사전 데이터로 만들고, 이를 jsonify() 메서드에 넣어서 return 해주면 됨"
   ]
  },
  {
   "cell_type": "code",
   "execution_count": 24,
   "metadata": {},
   "outputs": [],
   "source": [
    "@app.route(\"/json_test\")\n",
    "def hello_json():\n",
    "    data = {'name': '김대리', 'family': 'Byun'}\n",
    "    return jsonify(data)\n",
    "\n",
    "@app.route(\"/server_info\")\n",
    "def server_json():\n",
    "    data = {'server_name': '0.0.0.0', 'server_port': '8080'}\n",
    "    return jsonify(data)"
   ]
  },
  {
   "cell_type": "code",
   "execution_count": 25,
   "metadata": {},
   "outputs": [
    {
     "name": "stderr",
     "output_type": "stream",
     "text": [
      " * Running on http://0.0.0.0:8080/ (Press CTRL+C to quit)\n",
      "[2020-10-28 15:08:21,801] ERROR in app: Exception on /json_test [GET]\n",
      "Traceback (most recent call last):\n",
      "  File \"C:\\Users\\Teemo\\AppData\\Local\\Continuum\\anaconda3\\lib\\site-packages\\flask\\app.py\", line 1982, in wsgi_app\n",
      "    response = self.full_dispatch_request()\n",
      "  File \"C:\\Users\\Teemo\\AppData\\Local\\Continuum\\anaconda3\\lib\\site-packages\\flask\\app.py\", line 1614, in full_dispatch_request\n",
      "    rv = self.handle_user_exception(e)\n",
      "  File \"C:\\Users\\Teemo\\AppData\\Local\\Continuum\\anaconda3\\lib\\site-packages\\flask\\app.py\", line 1517, in handle_user_exception\n",
      "    reraise(exc_type, exc_value, tb)\n",
      "  File \"C:\\Users\\Teemo\\AppData\\Local\\Continuum\\anaconda3\\lib\\site-packages\\flask\\_compat.py\", line 33, in reraise\n",
      "    raise value\n",
      "  File \"C:\\Users\\Teemo\\AppData\\Local\\Continuum\\anaconda3\\lib\\site-packages\\flask\\app.py\", line 1612, in full_dispatch_request\n",
      "    rv = self.dispatch_request()\n",
      "  File \"C:\\Users\\Teemo\\AppData\\Local\\Continuum\\anaconda3\\lib\\site-packages\\flask\\app.py\", line 1598, in dispatch_request\n",
      "    return self.view_functions[rule.endpoint](**req.view_args)\n",
      "  File \"<ipython-input-24-eaa589a2847d>\", line 4, in hello_json\n",
      "    return jsonify(data)\n",
      "  File \"C:\\Users\\Teemo\\AppData\\Local\\Continuum\\anaconda3\\lib\\site-packages\\flask\\json.py\", line 251, in jsonify\n",
      "    if current_app.config['JSONIFY_PRETTYPRINT_REGULAR'] and not request.is_xhr:\n",
      "  File \"C:\\Users\\Teemo\\AppData\\Local\\Continuum\\anaconda3\\lib\\site-packages\\werkzeug\\local.py\", line 347, in __getattr__\n",
      "    return getattr(self._get_current_object(), name)\n",
      "AttributeError: 'Request' object has no attribute 'is_xhr'\n",
      "127.0.0.1 - - [28/Oct/2020 15:08:21] \"\u001b[35m\u001b[1mGET /json_test HTTP/1.1\u001b[0m\" 500 -\n"
     ]
    }
   ],
   "source": [
    "if __name__ == \"__main__\":\n",
    "    app.run(host=\"0.0.0.0\", port=8080)"
   ]
  },
  {
   "cell_type": "markdown",
   "metadata": {},
   "source": [
    "### Visual Studio Code 에디터 설치해보기\n",
    "> 기본적으로 주피터 노트북에서 코드 조각을 테스트하고, 최종 파일을 작성하여 실행\n",
    "> 단, 여러파일로 코드가 이루어져 있고, 서로 연결되어 실행되어야 할 경우에는 코드 에디터를 사용하는 편이 좋음\n",
    "\n",
    "- 코드 에디터\n",
    "    - 코드 작성을 도와주는 툴\n",
    "    - 파이썬의 경우, Pycharm, Visual Studio Code 를 많이 사용\n",
    "    - Visual Studio Code 는 파이썬 외에도 다양한 언어 지원\n",
    "        - 반면에, Pycharm 은 파이썬 전용 에디터\n",
    "        \n",
    "> 장기적으로 파이썬 외에도 다양한 언어를 구현해야 하고, 최근에 Visual Studio Code 가 많이 사용되므로, Visual Studio Code 선택\n",
    "> 회사에서도 한 개발팀에서는 동일한 에디터를 쓰는 경우가 많으므로, 가장 많이 쓰는 툴을 쓰는 것이 더 ㅈ호음"
   ]
  },
  {
   "cell_type": "markdown",
   "metadata": {},
   "source": [
    "### Visual Studio Code 설치 방법\n",
    "- https://code.visualstudio.com/ 에서 프로그램 다운로드 및 설치\n",
    "- Visual Studio Code 실행 후, Extension 메뉴에서 다음 플러그인 설치\n",
    "    - Python\n",
    "    - Python for VSCode\n",
    "    - Python Extension\n",
    "- Command Palette 실행\n",
    "    - 윈도우 단축키: Ctrl + Shift + P\n",
    "    - 맥 단축키: Command + Shift + P\n",
    "    - 단축키가 생각이 안나면, View 메뉴에서 Command Palette 선택\n",
    "- Command Palette 에서 Python: Select Interpreter 를 키보드로 넣어서, 해당 메뉴선택\n",
    "    - 자신이 사용하고 있는 파이썬 버전을 정확히 선택!\n",
    "    - 잘 모르겠다면, 터미널 오픈 후, 다음 명령을 통해 확인\n",
    "        - 맥\n",
    "        ```bash\n",
    "        which python\n",
    "        ```\n",
    "        - 윈도우\n",
    "        ```bash\n",
    "        where python\n",
    "        ```\n",
    "> 새 폴더 오픈시마다 설정 확인 (파이썬이 제대로 선택되지 않을 수 있으므로..)\n",
    "- Command Palette 실행: Python:Create New Integrated Terminal\n",
    "    - 터미널에서 virtual env 자동 실행\n",
    "    - pip install flask(아나콘다에서 설치가 되어 있겠지만, 확인차 실행)"
   ]
  },
  {
   "cell_type": "markdown",
   "metadata": {},
   "source": [
    "### 파이썬 virtual env\n",
    "- 파이썬이 불안정했을 때, 각 라이브러리와 파이썬 버전별 호환성 이슈가 많았음\n",
    "- 이에 여러가지 파이썬 버전과 라이브러리를 설치할 수 있는 가상 환경이 제공되며, 많은 사람들이 가상 환경을 사용함\n",
    "    - 개발팀 안에서는 사용하지만, 개인적으로는 사용안함(복잡하고 ,특별한 이슈가 없을 시에는 안씀("
   ]
  },
  {
   "cell_type": "markdown",
   "metadata": {},
   "source": [
    "### Visual Studio Code 업데이트\n",
    "- 최근 맥OS에서 권한 문제로 Visual Studio Code 업데이트 안되는 문제가 있을 수 있음\n",
    "    - 물론 굳이 업데이트 안해도 되지만, 참고로 업데이트가 꼭 필요할 시에 업데이트가 안된다면, 터미널에서 다음과 같이 명령\n",
    "    ```bash\n",
    "    sudo xattr -dr com.apple.quarantine /Applications/Visual\\ Studio\\ Code.app/\n",
    "    ```"
   ]
  },
  {
   "cell_type": "markdown",
   "metadata": {},
   "source": [
    "### 프론트엔드와 백엔드 구현해보기\n",
    "- 01_login_test 폴더에 login_test.py 파일 작성\n",
    "- GET 요청으로 받는 url은 아래와 같이 코드 작성\n",
    "```python\n",
    "from flask import Flask, jsonify, request\n",
    "app = Flask(__name__)\n",
    "```"
   ]
  },
  {
   "cell_type": "code",
   "execution_count": null,
   "metadata": {},
   "outputs": [],
   "source": []
  }
 ],
 "metadata": {
  "kernelspec": {
   "display_name": "Python 3",
   "language": "python",
   "name": "python3"
  },
  "language_info": {
   "codemirror_mode": {
    "name": "ipython",
    "version": 3
   },
   "file_extension": ".py",
   "mimetype": "text/x-python",
   "name": "python",
   "nbconvert_exporter": "python",
   "pygments_lexer": "ipython3",
   "version": "3.6.5"
  }
 },
 "nbformat": 4,
 "nbformat_minor": 2
}
