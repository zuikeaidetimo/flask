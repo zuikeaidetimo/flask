{
 "cells": [
  {
   "cell_type": "markdown",
   "metadata": {},
   "source": [
    "### 파이썬 중급: 데코레이터의 이해\n",
    "- 데코레이터는 단지 파이썬 flask 뿐만 아니라, 다양한 언어 전반에 걸쳐서 많이 사용됨\n",
    "- 파이썬 flask 에서 나오는 데코레이터를 쓰기 전에, 언어 전반에 걸친 데코레이터 관련 기술을 이해하기로 함\n",
    "- 한번 이해해놓으면, 다양한 언어 전반에서 데코레이터를 만났을 때마다 꾸준히 도움이 됨"
   ]
  },
  {
   "cell_type": "markdown",
   "metadata": {},
   "source": [
    "### 중첩 함수(Nested function)\n",
    "- 함수 내부에 정의된 또 다른 함수\n",
    "- 중첩함수는 해당 함수가 정의된 함수 내에서 호출 및 반환 가능\n",
    "- 함수 안에 선언된 변수는 함수 안에서만 사용 가능한 원리와 동일(로컬 변수)"
   ]
  },
  {
   "cell_type": "code",
   "execution_count": 3,
   "metadata": {},
   "outputs": [],
   "source": [
    "def outer_func():\n",
    "    print('call outer_func function')\n",
    "\n",
    "    # 중첩 함수의 정의\n",
    "    def inner_func():\n",
    "        return 'call inner_func function'\n",
    "    \n",
    "    # 중첩 함수 호출\n",
    "    print(inner_func())"
   ]
  },
  {
   "cell_type": "code",
   "execution_count": 4,
   "metadata": {},
   "outputs": [
    {
     "name": "stdout",
     "output_type": "stream",
     "text": [
      "call outer_func function\n",
      "call inner_func function\n"
     ]
    }
   ],
   "source": [
    "outer_func()"
   ]
  },
  {
   "cell_type": "code",
   "execution_count": 5,
   "metadata": {},
   "outputs": [
    {
     "ename": "NameError",
     "evalue": "name 'inner_func' is not defined",
     "output_type": "error",
     "traceback": [
      "\u001b[1;31m---------------------------------------------------------------------------\u001b[0m",
      "\u001b[1;31mNameError\u001b[0m                                 Traceback (most recent call last)",
      "\u001b[1;32m<ipython-input-5-81a3b6f6f450>\u001b[0m in \u001b[0;36m<module>\u001b[1;34m\u001b[0m\n\u001b[0;32m      1\u001b[0m \u001b[1;31m# 중첩함수는 함수 밖에서는 호출 불가 (outer_func 함수 안에서 선언되었으니, outer_func 함수 안에서만 호출 가능)\u001b[0m\u001b[1;33m\u001b[0m\u001b[1;33m\u001b[0m\u001b[0m\n\u001b[1;32m----> 2\u001b[1;33m \u001b[0minner_func\u001b[0m\u001b[1;33m(\u001b[0m\u001b[1;33m)\u001b[0m\u001b[1;33m\u001b[0m\u001b[0m\n\u001b[0m",
      "\u001b[1;31mNameError\u001b[0m: name 'inner_func' is not defined"
     ]
    }
   ],
   "source": [
    "# 중첩함수는 함수 밖에서는 호출 불가 (outer_func 함수 안에서 선언되었으니, outer_func 함수 안에서만 호출 가능)\n",
    "inner_func()"
   ]
  },
  {
   "cell_type": "markdown",
   "metadata": {},
   "source": [
    "#### 중첩 함수를 함수 밖에서도 호출할 수 있는 방법이 있다. 이 방법을 이해하기 위해 First-class function, closure에 대해 다음 장에서 알아보자."
   ]
  },
  {
   "cell_type": "code",
   "execution_count": 1,
   "metadata": {},
   "outputs": [
    {
     "name": "stdout",
     "output_type": "stream",
     "text": [
      "10\n",
      "complex\n"
     ]
    }
   ],
   "source": [
    "def outer_func(num):\n",
    "    # 중첩 함수에서 외부 함수의 변수에 접근 가능\n",
    "    def inner_func():\n",
    "        print(num)\n",
    "        return 'complex'\n",
    "    \n",
    "    return inner_func\n",
    "\n",
    "fn = outer_func(10)       # <--- First-class function\n",
    "print(fn())               # <--- Closure 호출"
   ]
  },
  {
   "cell_type": "markdown",
   "metadata": {},
   "source": [
    "### First-class function"
   ]
  },
  {
   "cell_type": "markdown",
   "metadata": {},
   "source": [
    "### First-class 함수\n",
    "- 다음과 같이 다룰 수 있는 함수를 First-class 함수라고 부름\n",
    "    - 함수 자체를 변수에 저장 가능\n",
    "    - 함수의 인자에 다른 함수를 인수로 전달 가능\n",
    "    - 함수의 반환 값(return 값)으로 함수를 전달 가능\n",
    "    \n",
    "### 파이썬과 First-class 함수\n",
    "- 사실 파이썬에서는 모든 것이 객체!\n",
    "- 파이썬 함수도 객체로 되어 있어서, 기본 함수 기능 외에 객체와 같은 활용이 가능\n",
    "    - 즉, 파이썬의 함수들은 First-class 함수로 사용 가능\n",
    "    \n",
    "> 지금까지 배운 언어의 맥락과는 뿌리가 다른 사고 - 함수형 프로그래밍에서부터 고안된 기법"
   ]
  },
  {
   "cell_type": "markdown",
   "metadata": {},
   "source": [
    "### 참고: 언어별 First-class 함수 지원 여부\n",
    "- python, Go, javascript, Kotlin은 First-class 함수 지원\n",
    "- C 언어등은 First-class 함수 미지원"
   ]
  },
  {
   "cell_type": "markdown",
   "metadata": {},
   "source": [
    "#### 다른 변수에 함수 할당 가능"
   ]
  },
  {
   "cell_type": "code",
   "execution_count": 2,
   "metadata": {},
   "outputs": [],
   "source": [
    "def clac_square(digit):\n",
    "    return digit * digit"
   ]
  },
  {
   "cell_type": "code",
   "execution_count": 3,
   "metadata": {},
   "outputs": [
    {
     "data": {
      "text/plain": [
       "4"
      ]
     },
     "execution_count": 3,
     "metadata": {},
     "output_type": "execute_result"
    }
   ],
   "source": [
    "clac_square(2)"
   ]
  },
  {
   "cell_type": "code",
   "execution_count": 5,
   "metadata": {},
   "outputs": [],
   "source": [
    "# 1. func1 이라는 변수에 함수를 할당 가능\n",
    "func1 = clac_square"
   ]
  },
  {
   "cell_type": "code",
   "execution_count": 7,
   "metadata": {},
   "outputs": [
    {
     "name": "stdout",
     "output_type": "stream",
     "text": [
      "<function clac_square at 0x000001D5B4D741E0>\n"
     ]
    }
   ],
   "source": [
    "print(clac_square)"
   ]
  },
  {
   "cell_type": "code",
   "execution_count": 8,
   "metadata": {},
   "outputs": [
    {
     "data": {
      "text/plain": [
       "4"
      ]
     },
     "execution_count": 8,
     "metadata": {},
     "output_type": "execute_result"
    }
   ],
   "source": [
    "func1(2)"
   ]
  },
  {
   "cell_type": "markdown",
   "metadata": {},
   "source": [
    "#### 함수가 할당된 변수는 동일한 함수처럼 활용 가능"
   ]
  },
  {
   "cell_type": "code",
   "execution_count": 26,
   "metadata": {},
   "outputs": [],
   "source": [
    "def calc_square(digit):\n",
    "    return digit * digit\n",
    "\n",
    "def calc_plus(digit):\n",
    "    return digit + digit\n",
    "\n",
    "def calc_quad(digit):\n",
    "    return digit * digit * digit * digit"
   ]
  },
  {
   "cell_type": "code",
   "execution_count": 40,
   "metadata": {},
   "outputs": [],
   "source": [
    "def list_square(function, digit_list):\n",
    "    result = []\n",
    "    for digit in digit_list:\n",
    "        result.append(function(digit))\n",
    "    print(result)"
   ]
  },
  {
   "cell_type": "code",
   "execution_count": 41,
   "metadata": {},
   "outputs": [],
   "source": [
    "num_list = [1, 2, 3, 4, 5]"
   ]
  },
  {
   "cell_type": "code",
   "execution_count": 42,
   "metadata": {},
   "outputs": [
    {
     "name": "stdout",
     "output_type": "stream",
     "text": [
      "[1, 4, 9, 16, 25]\n",
      "[2, 4, 6, 8, 10]\n",
      "[1, 16, 81, 256, 625]\n"
     ]
    }
   ],
   "source": [
    "list_square(calc_square, num_list)\n",
    "list_square(calc_plus, num_list)\n",
    "list_square(calc_quad, num_list)"
   ]
  },
  {
   "cell_type": "markdown",
   "metadata": {},
   "source": [
    "#### 함수의 결과값으로 함수를 리턴할 수도 있음"
   ]
  },
  {
   "cell_type": "code",
   "execution_count": 44,
   "metadata": {},
   "outputs": [],
   "source": [
    "def logger(msg):\n",
    "    message = msg\n",
    "    def msg_creator():  # <--- 함수 안에 함수를 만들 수도 있음\n",
    "        print('[HIGH LEVEL]: ', message)\n",
    "    return msg_creator"
   ]
  },
  {
   "cell_type": "code",
   "execution_count": 48,
   "metadata": {},
   "outputs": [],
   "source": [
    "log1 = logger('Teemo Log-in')"
   ]
  },
  {
   "cell_type": "code",
   "execution_count": 49,
   "metadata": {},
   "outputs": [
    {
     "name": "stdout",
     "output_type": "stream",
     "text": [
      "<function logger.<locals>.msg_creator at 0x000001D5B588D1E0>\n"
     ]
    }
   ],
   "source": [
    "print(log1)"
   ]
  },
  {
   "cell_type": "code",
   "execution_count": 50,
   "metadata": {},
   "outputs": [
    {
     "name": "stdout",
     "output_type": "stream",
     "text": [
      "[HIGH LEVEL]:  Teemo Log-in\n"
     ]
    }
   ],
   "source": [
    "log1()"
   ]
  },
  {
   "cell_type": "code",
   "execution_count": 51,
   "metadata": {},
   "outputs": [],
   "source": [
    "del logger"
   ]
  },
  {
   "cell_type": "code",
   "execution_count": 52,
   "metadata": {},
   "outputs": [
    {
     "name": "stdout",
     "output_type": "stream",
     "text": [
      "[HIGH LEVEL]:  Teemo Log-in\n"
     ]
    }
   ],
   "source": [
    "log1()  # logger 함수를 지웠는데도 살아있다,,"
   ]
  },
  {
   "cell_type": "markdown",
   "metadata": {},
   "source": [
    "### First-class 함수 활용"
   ]
  },
  {
   "cell_type": "code",
   "execution_count": 53,
   "metadata": {},
   "outputs": [],
   "source": [
    "def html_creator(tag):\n",
    "    def text_wrapper(msg):\n",
    "        print('<{0}>{1}</{0}>'.format(tag, msg))\n",
    "    return text_wrapper"
   ]
  },
  {
   "cell_type": "code",
   "execution_count": 54,
   "metadata": {},
   "outputs": [
    {
     "name": "stdout",
     "output_type": "stream",
     "text": [
      "<function html_creator.<locals>.text_wrapper at 0x000001D5B586AB70>\n"
     ]
    }
   ],
   "source": [
    "h1_html_creator = html_creator('h1') #1\n",
    "print(h1_html_creator)"
   ]
  },
  {
   "cell_type": "code",
   "execution_count": 56,
   "metadata": {},
   "outputs": [
    {
     "name": "stdout",
     "output_type": "stream",
     "text": [
      "<h1>H1 태그는 타이틀을 표시하는 태그입니다.</h1>\n"
     ]
    }
   ],
   "source": [
    "h1_html_creator('H1 태그는 타이틀을 표시하는 태그입니다.')"
   ]
  },
  {
   "cell_type": "code",
   "execution_count": 57,
   "metadata": {},
   "outputs": [
    {
     "name": "stdout",
     "output_type": "stream",
     "text": [
      "<p>P 태그는 문단을 표시하는 태그입니다.</p>\n"
     ]
    }
   ],
   "source": [
    "p_html_creator = html_creator('p')\n",
    "p_html_creator('P 태그는 문단을 표시하는 태그입니다.')"
   ]
  },
  {
   "cell_type": "markdown",
   "metadata": {},
   "source": [
    "#### Training\n",
    "#### 스트링으로 된 문자열이 주어지면, 정해진 목차 기호로 나열해주는 First-class 함수를 만들어보세요\n",
    "예:  \n",
    "```python\n",
    "func1 = index_creator('-')\n",
    "func1(list_data)\n",
    "```  \n",
    "출력:  \n",
    "- ....\n",
    "- ....\n",
    "- ...."
   ]
  },
  {
   "cell_type": "code",
   "execution_count": 66,
   "metadata": {},
   "outputs": [
    {
     "name": "stdout",
     "output_type": "stream",
     "text": [
      "- 기\n",
      "- 승\n",
      "- 전\n",
      "- 결\n"
     ]
    }
   ],
   "source": [
    "def index_creator(tag):\n",
    "    def text_wrapping(list_data):\n",
    "        for item in list_data:\n",
    "            print('{0} {1}'.format(tag, item))\n",
    "    return text_wrapping\n",
    "\n",
    "data_list_minus = index_creator('-')\n",
    "data = ['기', '승', '전', '결']\n",
    "data_list_minus(data)"
   ]
  },
  {
   "cell_type": "code",
   "execution_count": 67,
   "metadata": {},
   "outputs": [
    {
     "name": "stdout",
     "output_type": "stream",
     "text": [
      "* 안녕\n",
      "* 하세욤\n"
     ]
    }
   ],
   "source": [
    "data_list_mul = index_creator(\"*\")\n",
    "data_list_mul(['안녕', '하세욤'])"
   ]
  },
  {
   "cell_type": "markdown",
   "metadata": {},
   "source": [
    "#### 도전 과제(크롤링 기술을 익히신 분만 해당)\n",
    "위에서 만든 First-class 함수로 다음 사이트의 나만의 엣지있는 블로그 사이트 만들기(취미로 익히는IT)' 코스 리스트를 출력해부세요.\n",
    "\n",
    "https://davelee-fun.github.io/blog/crawl_html_css.html"
   ]
  },
  {
   "cell_type": "code",
   "execution_count": 91,
   "metadata": {},
   "outputs": [
    {
     "name": "stdout",
     "output_type": "stream",
     "text": [
      "- (왕초보) - 클래스 소개\n",
      "- (왕초보) - 블로그 개발 필요한 준비물 준비하기\n",
      "- (왕초보) - Github pages 설정해서 블로그 첫 페이지 만들어보기\n",
      "- (왕초보) - 초간단 페이지 만들어보기\n",
      "- (왕초보) - 이쁘게 테마 적용해보기\n",
      "- (왕초보) - 마크다운 기초 이해하고, 실제 나만의 블로그 페이지 만들기\n",
      "- (왕초보) - 다양한 마크다운 기법 익혀보며, 나만의 블로그 페이지 꾸며보기\n"
     ]
    }
   ],
   "source": [
    "import requests\n",
    "from bs4 import BeautifulSoup\n",
    "\n",
    "res = requests.get('https://davelee-fun.github.io/blog/crawl_html_css.html')\n",
    "soup = BeautifulSoup(res.content, 'html.parser')\n",
    "# a 태그이면서 href 속성 값이 특정한 값을 갖는 경우 탐색\n",
    "link_titles = soup.select(\"ul#hobby_course_list > li\")\n",
    "data = []\n",
    "for link_title in link_titles:\n",
    "    data.append(link_title.get_text())\n",
    "data_list_minus(data)"
   ]
  },
  {
   "cell_type": "code",
   "execution_count": 89,
   "metadata": {},
   "outputs": [
    {
     "name": "stdout",
     "output_type": "stream",
     "text": [
      "사용할 특수문자 입력:@\n",
      "@ 코로나에 걸려버렸다\n",
      "@ 코로나소개팅 힘든시기지만 문제없어요\n",
      "@ 유럽 코로나 상황 심각하네요\n",
      "@ 코로나 블루를 아시나요?\n",
      "@ 코로나로 잃은 것도 많지만 얻은 게 있다면...?\n"
     ]
    }
   ],
   "source": [
    "import requests\n",
    "import urllib.request\n",
    "from bs4 import BeautifulSoup\n",
    "import ssl\n",
    "\n",
    "def first_class(sp_cha):\n",
    "    \n",
    "    def finish_list(arg_list):\n",
    "        for str in arg_list:\n",
    "            print ('{0} {1}'.format(sp_cha, str))\n",
    "        \n",
    "    return finish_list\n",
    "\n",
    "def web_crawling(url, web_keyword):\n",
    "    crawling_result = []\n",
    "\n",
    "    context = ssl._create_unverified_context()\n",
    "\n",
    "    html = urllib.request.urlopen(url,context=context).read()\n",
    "    soup = BeautifulSoup(html,'html.parser')\n",
    "    data = soup.select(web_keyword)\n",
    "\n",
    "    for item in data:\n",
    "        crawling_result.append(item.get_text())\n",
    "    \n",
    "    return crawling_result\n",
    "\n",
    "\n",
    "if __name__ == \"__main__\":\n",
    "    search_key = '%EC%BD%94%EB%A1%9C%EB%82%98'\n",
    "    url = 'https://search.naver.com/search.naver?sm=tab_hty.top&where=nexearch&query=' + search_key\n",
    "    web_keyword = 'a.sh_cafe_title'\n",
    "\n",
    "    #arg_list_1 = ['기', '승', '전', '결']\n",
    "\n",
    "    arg_list_1 = web_crawling(url, web_keyword)\n",
    "\n",
    "    result = first_class(input('사용할 특수문자 입력:'))\n",
    "\n",
    "    result(arg_list_1)\n",
    "\n",
    "    "
   ]
  },
  {
   "cell_type": "markdown",
   "metadata": {},
   "source": [
    "### Closure function\n",
    "- 함수와 해당 함수가 가지고 있는 데이터를 함께 복사, 저장해서 별도 함수로 활용하는 기법으로 First-class 함수와 동일\n",
    "- 외부 함수가 소멸되더라도, 외부 함수 안에 있는 로컬 변수 값과 중첩함수(내부함수)를 사용할 수 있는 기법\n",
    "- 지금까지 배운 언어의 맥락과는 뿌리가 다른 사고 - 함수형 프로그래밍에서 고안된 기법\n",
    "- 그래서 청므에 접하면 매우 이해하기 어려움, 예제 코드로 보면서 이해하자"
   ]
  },
  {
   "cell_type": "code",
   "execution_count": 73,
   "metadata": {},
   "outputs": [],
   "source": [
    "def outer_func(num):\n",
    "    # 중첩 함수에서 외부 함수의 변수에 접근 가능\n",
    "    def inner_func():\n",
    "        print(num)\n",
    "        return '안녕'\n",
    "    \n",
    "    return inner_func # 중첩 함수 이름을 리턴합니다."
   ]
  },
  {
   "cell_type": "code",
   "execution_count": 75,
   "metadata": {},
   "outputs": [
    {
     "name": "stdout",
     "output_type": "stream",
     "text": [
      "10\n"
     ]
    },
    {
     "data": {
      "text/plain": [
       "'안녕'"
      ]
     },
     "execution_count": 75,
     "metadata": {},
     "output_type": "execute_result"
    }
   ],
   "source": [
    "closure_func = outer_func(10)   # <--- First-class function\n",
    "closure_func()                  # <--- Closure 호출"
   ]
  },
  {
   "cell_type": "markdown",
   "metadata": {},
   "source": [
    "#### 예제 코드로 이해하는 closure"
   ]
  },
  {
   "cell_type": "markdown",
   "metadata": {},
   "source": [
    "- 위의 예제에서 closure_func이 바로 closure 임\n",
    "- closure_func = outer_func(10) 에서 outer_func 함수는 호출 종료\n",
    "- closure_func()은 결국 innter_func 함수를 호출\n",
    "- outer_func(10) 호출 종료시 num 값은 없어졌으나, closure_func()에서 inner_func이 호출되면서 이전의 num값(10)을 사용함"
   ]
  },
  {
   "cell_type": "code",
   "execution_count": 78,
   "metadata": {},
   "outputs": [],
   "source": [
    "del outer_func"
   ]
  },
  {
   "cell_type": "markdown",
   "metadata": {},
   "source": [
    "#### 심지어 outer_func 함수를 아예 삭제해버려도 fn(), 즉 inner_func()와 num값(10)은 살아있음"
   ]
  },
  {
   "cell_type": "code",
   "execution_count": 79,
   "metadata": {},
   "outputs": [
    {
     "name": "stdout",
     "output_type": "stream",
     "text": [
      "10\n"
     ]
    },
    {
     "data": {
      "text/plain": [
       "'안녕'"
      ]
     },
     "execution_count": 79,
     "metadata": {},
     "output_type": "execute_result"
    }
   ],
   "source": [
    "closure_func()"
   ]
  },
  {
   "cell_type": "markdown",
   "metadata": {},
   "source": [
    "### 언제 closure를 사용할까?\n",
    "- closure는 객체와 유사\n",
    "- 일반적으로 제공해야할 기능(method)이 적은 경우, closure를 사용하기도 함\n",
    "- 제공해야할 기능(method)가 많은 경우 등은 class를 사용하여 구현"
   ]
  },
  {
   "cell_type": "code",
   "execution_count": 82,
   "metadata": {},
   "outputs": [],
   "source": [
    "def clac_square(digit):\n",
    "    return digit * digit\n",
    "def calc_power_3(digit):\n",
    "    return digit * digit * digit\n",
    "def calc_quad(digit):\n",
    "    return digit * digit * digit * digit"
   ]
  },
  {
   "cell_type": "code",
   "execution_count": 83,
   "metadata": {},
   "outputs": [
    {
     "name": "stdout",
     "output_type": "stream",
     "text": [
      "4\n",
      "8\n",
      "16\n"
     ]
    }
   ],
   "source": [
    "print(calc_square(2))\n",
    "print(calc_power_3(2))\n",
    "print(calc_quad(2))"
   ]
  },
  {
   "cell_type": "code",
   "execution_count": 84,
   "metadata": {},
   "outputs": [],
   "source": [
    "def calc_power(n):\n",
    "    def power(digit):\n",
    "        return digit ** n\n",
    "    return power"
   ]
  },
  {
   "cell_type": "code",
   "execution_count": 85,
   "metadata": {},
   "outputs": [],
   "source": [
    "power2 = calc_power(2)\n",
    "power3 = calc_power(3)\n",
    "power4 = calc_power(4)"
   ]
  },
  {
   "cell_type": "code",
   "execution_count": 86,
   "metadata": {},
   "outputs": [
    {
     "name": "stdout",
     "output_type": "stream",
     "text": [
      "4\n",
      "8\n",
      "16\n"
     ]
    }
   ],
   "source": [
    "print(power2(2))\n",
    "print(power3(2))\n",
    "print(power4(2))"
   ]
  },
  {
   "cell_type": "markdown",
   "metadata": {},
   "source": [
    "#### Training\n",
    "1승부터 5승까지 출력하기 (위 calc_power() 함수를 사용해서 list_data 리스트 변수에 1승부터 5승까지 계산 클로져 함수를 넣어서 사용"
   ]
  },
  {
   "cell_type": "code",
   "execution_count": 90,
   "metadata": {},
   "outputs": [
    {
     "name": "stdout",
     "output_type": "stream",
     "text": [
      "2\n",
      "4\n",
      "8\n",
      "16\n",
      "32\n"
     ]
    }
   ],
   "source": [
    "list_data = []\n",
    "for num in range(1, 6):\n",
    "    list_data.append(calc_power(num))\n",
    "    \n",
    "for func in list_data:\n",
    "    print(func(2))"
   ]
  },
  {
   "cell_type": "markdown",
   "metadata": {},
   "source": [
    "### 데코레이터(Decorator)\n",
    "- 함수 앞뒤에 기능을 추가해서 손쉽게 함수를 활용할 수 있는 기법\n",
    "- Closure function을 활용\n",
    "- https://www.python.org/dev/peps/pep-0318"
   ]
  },
  {
   "cell_type": "markdown",
   "metadata": {},
   "source": [
    "#### 혹시 다음과 같이 @가 사용된 파이썬 코드를 본 적이 있으신지?\n",
    "```python\n",
    "@decorator_func\n",
    "def function():\n",
    "    print(\"What is decorator?\")\n",
    "```\n",
    "\n",
    "#### 위 코드에서 @decorator_func 부분이 데코레이터임"
   ]
  },
  {
   "cell_type": "code",
   "execution_count": 94,
   "metadata": {},
   "outputs": [
    {
     "name": "stdout",
     "output_type": "stream",
     "text": [
      "Teemo login\n"
     ]
    }
   ],
   "source": [
    "# 다음 함수를 보자\n",
    "def logger_login():\n",
    "    print(\"Teemo login\")\n",
    "    \n",
    "logger_login()"
   ]
  },
  {
   "cell_type": "code",
   "execution_count": 95,
   "metadata": {},
   "outputs": [
    {
     "name": "stdout",
     "output_type": "stream",
     "text": [
      "2020-10-27 09:56:01.922422\n",
      "Teemo login\n",
      "2020-10-27 09:56:01.922422\n"
     ]
    }
   ],
   "source": [
    "# 시간을 앞뒤로 추가하고 싶다.\n",
    "# 이렇게 넣으면 됩니다.\n",
    "import datetime\n",
    "\n",
    "def logger_login():\n",
    "    print(datetime.datetime.now())\n",
    "    print(\"Teemo login\")\n",
    "    print(datetime.datetime.now())\n",
    "    \n",
    "logger_login()"
   ]
  },
  {
   "cell_type": "code",
   "execution_count": 96,
   "metadata": {},
   "outputs": [],
   "source": [
    "# 다른 비슷한 함수도 다 넣으려면... 이걸 좀 깔끔하게...\n",
    "def logger_login_Teemo():\n",
    "    print(\"Teemo login\")\n",
    "\n",
    "def logger_login_Fizz():\n",
    "    print(\"Fizz login\")\n",
    "    \n",
    "def logger_login_LuLu():\n",
    "    print(\"LuLu login\")"
   ]
  },
  {
   "cell_type": "markdown",
   "metadata": {},
   "source": [
    "#### 직접 각 함수에 기능을 앞뒤로 코드로 넣어도 되긴 되지 않을까?\n",
    "- 여러 함수에 동일한 기능을 @데코레이터 하나로 간편하게 추가할 수 있고,\n",
    "- 예를 들어 파라미터가 있는 함수에 하라미터의 유효성 검사가 필요할 때\n",
    "    - 파라미터가 있는 함수가 있을 때마다, 유효성 검사 코드를 넣기가 불편!\n",
    "    - 만약 유효성 검사 코드 수정이 필요하다면 관련 함수를 모두 수정해야 하므로 매우 불편"
   ]
  },
  {
   "cell_type": "markdown",
   "metadata": {},
   "source": [
    "### 데코레이터 작성법"
   ]
  },
  {
   "cell_type": "code",
   "execution_count": 102,
   "metadata": {},
   "outputs": [],
   "source": [
    "# 데코레이터 작성하기\n",
    "def datetime_decorator(func):                           # <--- datetime_decorator는 데코레이터 이름, func 가 이 함수 안에 넣을 함수가 됨\n",
    "    def wrapper():                                     # <--- 호출할 함수를 감싸는 함수\n",
    "        print('time ' + str(datetime.datetime.now()))  # <--- 함수 앞에서 실행할 내용\n",
    "        func()                                         # <--- 함수\n",
    "        print(datetime.datetime.now())                 # <--- 함수 뒤에서 실행할 내용\n",
    "    return wrapper"
   ]
  },
  {
   "cell_type": "code",
   "execution_count": 103,
   "metadata": {},
   "outputs": [
    {
     "name": "stdout",
     "output_type": "stream",
     "text": [
      "time 2020-10-27 10:01:53.729897\n",
      "Teemo login\n",
      "2020-10-27 10:01:53.729897\n"
     ]
    }
   ],
   "source": [
    "# 데코레이터 적용하기\n",
    "@datetime_decorator   # 데코레이터\n",
    "def logger_login_Teemo():\n",
    "    print(\"Teemo login\")\n",
    "    \n",
    "logger_login_Teemo()"
   ]
  },
  {
   "cell_type": "code",
   "execution_count": 104,
   "metadata": {},
   "outputs": [
    {
     "name": "stdout",
     "output_type": "stream",
     "text": [
      "time 2020-10-27 10:02:08.698810\n",
      "Fizz login\n",
      "2020-10-27 10:02:08.698810\n"
     ]
    }
   ],
   "source": [
    "# 데코레이터 적용하기\n",
    "@datetime_decorator   # 데코레이터\n",
    "def logger_login_Fizz():\n",
    "    print(\"Fizz login\")\n",
    "    \n",
    "logger_login_Fizz()"
   ]
  },
  {
   "cell_type": "code",
   "execution_count": 105,
   "metadata": {},
   "outputs": [
    {
     "name": "stdout",
     "output_type": "stream",
     "text": [
      "time 2020-10-27 10:03:46.481904\n",
      "LuLu login\n",
      "2020-10-27 10:03:46.482904\n"
     ]
    }
   ],
   "source": [
    "# 데코레이터 적용하기\n",
    "@datetime_decorator   # 데코레이터\n",
    "def logger_login_LuLu():\n",
    "    print(\"LuLu login\")\n",
    "    \n",
    "logger_login_LuLu()"
   ]
  },
  {
   "cell_type": "markdown",
   "metadata": {},
   "source": [
    "### Nested function, Closure function 과 함께 데코레이터를 풀어서 작성해보자"
   ]
  },
  {
   "cell_type": "code",
   "execution_count": 106,
   "metadata": {},
   "outputs": [],
   "source": [
    "# decorator 함수 정의\n",
    "def outer_func(function):\n",
    "    def inner_func():\n",
    "        print('decoration added')\n",
    "        function()\n",
    "    return inner_func\n",
    "\n",
    "# decorating할 함수\n",
    "def log_func():\n",
    "    print('logging')"
   ]
  },
  {
   "cell_type": "code",
   "execution_count": 107,
   "metadata": {},
   "outputs": [
    {
     "name": "stdout",
     "output_type": "stream",
     "text": [
      "logging\n"
     ]
    }
   ],
   "source": [
    "# 본래 함수\n",
    "log_func()"
   ]
  },
  {
   "cell_type": "code",
   "execution_count": 108,
   "metadata": {},
   "outputs": [
    {
     "name": "stdout",
     "output_type": "stream",
     "text": [
      "decoration added\n",
      "logging\n"
     ]
    }
   ],
   "source": [
    "# log_func 함수에 inner_func 함수의 기능을 추가한 decorated_func 함수\n",
    "decorated_func = outer_func(log_func)\n",
    "decorated_func()     # <--- 결과는 데코레이터를 사용할 때와 동일함"
   ]
  },
  {
   "cell_type": "markdown",
   "metadata": {},
   "source": [
    "### 이것을 한번에 데코레이터로 작성하면!"
   ]
  },
  {
   "cell_type": "code",
   "execution_count": 109,
   "metadata": {},
   "outputs": [
    {
     "name": "stdout",
     "output_type": "stream",
     "text": [
      "decoration added\n",
      "logging\n"
     ]
    }
   ],
   "source": [
    "@outer_func\n",
    "def log_func():\n",
    "    print('logging')\n",
    "    \n",
    "log_func()"
   ]
  },
  {
   "cell_type": "markdown",
   "metadata": {},
   "source": [
    "### 파라미터가 있는 함수에 Decorator 적용하기\n",
    "- 중첩함수에 꾸미고자 하는 함수와 동일하게 파라미터를 가져가면 됨"
   ]
  },
  {
   "cell_type": "code",
   "execution_count": 124,
   "metadata": {},
   "outputs": [],
   "source": [
    "# 데코레이터\n",
    "def outer_func(function):\n",
    "    def inner_func(digit1, digit2):\n",
    "        if digit2 == 0:     # <--- 유효성 검사의 예\n",
    "            print('cannot be divided with zero')\n",
    "            return\n",
    "        function(digit1, digit2)\n",
    "    return inner_func"
   ]
  },
  {
   "cell_type": "code",
   "execution_count": 131,
   "metadata": {},
   "outputs": [],
   "source": [
    "# 데코레이터 사용하기 (유효성 검사)\n",
    "@outer_func\n",
    "def devide(digit1, digit2):\n",
    "    print(digit1/digit2)"
   ]
  },
  {
   "cell_type": "code",
   "execution_count": 129,
   "metadata": {},
   "outputs": [
    {
     "name": "stdout",
     "output_type": "stream",
     "text": [
      "2.0\n"
     ]
    }
   ],
   "source": [
    "devide(4, 2)"
   ]
  },
  {
   "cell_type": "code",
   "execution_count": 130,
   "metadata": {},
   "outputs": [
    {
     "ename": "ZeroDivisionError",
     "evalue": "division by zero",
     "output_type": "error",
     "traceback": [
      "\u001b[1;31m---------------------------------------------------------------------------\u001b[0m",
      "\u001b[1;31mZeroDivisionError\u001b[0m                         Traceback (most recent call last)",
      "\u001b[1;32m<ipython-input-130-9bcd5b5e2067>\u001b[0m in \u001b[0;36m<module>\u001b[1;34m\u001b[0m\n\u001b[1;32m----> 1\u001b[1;33m \u001b[0mdivide\u001b[0m\u001b[1;33m(\u001b[0m\u001b[1;36m9\u001b[0m\u001b[1;33m,\u001b[0m \u001b[1;36m0\u001b[0m\u001b[1;33m)\u001b[0m\u001b[1;33m\u001b[0m\u001b[0m\n\u001b[0m",
      "\u001b[1;32m<ipython-input-120-213d802b4625>\u001b[0m in \u001b[0;36mdivide\u001b[1;34m(digit1, digit2)\u001b[0m\n\u001b[0;32m      1\u001b[0m \u001b[1;31m# 실제 함수\u001b[0m\u001b[1;33m\u001b[0m\u001b[1;33m\u001b[0m\u001b[0m\n\u001b[0;32m      2\u001b[0m \u001b[1;32mdef\u001b[0m \u001b[0mdivide\u001b[0m\u001b[1;33m(\u001b[0m\u001b[0mdigit1\u001b[0m\u001b[1;33m,\u001b[0m \u001b[0mdigit2\u001b[0m\u001b[1;33m)\u001b[0m\u001b[1;33m:\u001b[0m\u001b[1;33m\u001b[0m\u001b[0m\n\u001b[1;32m----> 3\u001b[1;33m     \u001b[1;32mreturn\u001b[0m \u001b[0mdigit1\u001b[0m\u001b[1;33m/\u001b[0m\u001b[0mdigit2\u001b[0m\u001b[1;33m\u001b[0m\u001b[0m\n\u001b[0m",
      "\u001b[1;31mZeroDivisionError\u001b[0m: division by zero"
     ]
    }
   ],
   "source": [
    "divide(9, 0)"
   ]
  },
  {
   "cell_type": "code",
   "execution_count": 132,
   "metadata": {},
   "outputs": [
    {
     "name": "stdout",
     "output_type": "stream",
     "text": [
      "only integer support\n"
     ]
    }
   ],
   "source": [
    "def type_checker(function):\n",
    "    def inner_func(digit1, digit2):\n",
    "        if (type(digit1) != int) or (type(digit2) != int):\n",
    "            print('only integer support')\n",
    "            return\n",
    "        return function(digit1, digit2)\n",
    "    return inner_func\n",
    "\n",
    "@type_checker\n",
    "def muliplexer(digit1, digit2):\n",
    "    return digit1 * digit2\n",
    "\n",
    "muliplexer(1.1, 2)"
   ]
  },
  {
   "cell_type": "markdown",
   "metadata": {},
   "source": [
    "### 파라미터와 관계없이 모든 함수에 적용 가능한 Decorator 만들기\n",
    "- 파라미터는 어떤 형태이든 결국(args, **kwargs)로 표현 가능\n",
    "- 데코레이터의 내부함수 파라미터를 (args, **kwargs)로 작성하면 어떤 함수이든 데코레이터 적용 가능\n"
   ]
  },
  {
   "cell_type": "code",
   "execution_count": 133,
   "metadata": {},
   "outputs": [],
   "source": [
    "# 데코레이터 작성하기\n",
    "def general_decorator(function):\n",
    "    def wrapper(*args, **kwargs):\n",
    "        print('function is decorated')\n",
    "        return function(*args, **kwargs)\n",
    "    return wrapper"
   ]
  },
  {
   "cell_type": "code",
   "execution_count": 135,
   "metadata": {},
   "outputs": [],
   "source": [
    "# 데코레이터 적용하기\n",
    "@general_decorator\n",
    "def calc_square(digit):\n",
    "    return digit * digit\n",
    "\n",
    "@general_decorator\n",
    "def calc_plus(digit1, digit2):\n",
    "    return digit1 + digit2\n",
    "\n",
    "@general_decorator\n",
    "def calc_quad(digit1, digit2, digit3, digit4):\n",
    "    return digit1 * digit2 * digit3 * digit4"
   ]
  },
  {
   "cell_type": "code",
   "execution_count": 136,
   "metadata": {},
   "outputs": [
    {
     "name": "stdout",
     "output_type": "stream",
     "text": [
      "function is decorated\n",
      "4\n",
      "function is decorated\n",
      "5\n",
      "function is decorated\n",
      "24\n"
     ]
    }
   ],
   "source": [
    "# 함수 호출하기\n",
    "print(calc_square(2))\n",
    "print(calc_plus(2, 3))\n",
    "print(calc_quad(1, 2, 3, 4))"
   ]
  },
  {
   "cell_type": "markdown",
   "metadata": {},
   "source": [
    "### 한 함수에 데코레이터 여러 개 지정하기\n",
    "- 함수에 여러 개의 데코레이터 지정 가능 (여러 줄로 @데코레이터를 써주면 됨)\n",
    "- 데코레이터를 나열한 순서대로 진행됨"
   ]
  },
  {
   "cell_type": "code",
   "execution_count": 137,
   "metadata": {},
   "outputs": [],
   "source": [
    "# 여러 데코레이터 작성하기\n",
    "def decorator1(function):\n",
    "    def wrapper():\n",
    "        print('decorator1')\n",
    "        function()\n",
    "    return wrapper\n",
    "\n",
    "def decorator2(function):\n",
    "    def wrapper():\n",
    "        print('decorator2')\n",
    "        function()\n",
    "    return wrapper"
   ]
  },
  {
   "cell_type": "code",
   "execution_count": 138,
   "metadata": {},
   "outputs": [],
   "source": [
    "# 여러 데코레이터를 함수에 한번에 적용하기\n",
    "@decorator1\n",
    "@decorator2\n",
    "def hello():\n",
    "    print('hello')"
   ]
  },
  {
   "cell_type": "code",
   "execution_count": 139,
   "metadata": {},
   "outputs": [
    {
     "name": "stdout",
     "output_type": "stream",
     "text": [
      "decorator1\n",
      "decorator2\n",
      "hello\n"
     ]
    }
   ],
   "source": [
    "hello()"
   ]
  },
  {
   "cell_type": "markdown",
   "metadata": {},
   "source": [
    "#### 도전 과제\n",
    "HTML 웹페이지 태그를 붙여주는 데코레이터 만들기  \n",
    "해당 데코레이터를 사용해서 안녕하세요 출력해보기  \n",
    "@mark_bold - 볼드체로 만들기 태그: ```<b>내용</b>```  \n",
    "@mark_italic - 이탤릭체로 만들기 태그: ```<i>내용</i>```"
   ]
  },
  {
   "cell_type": "code",
   "execution_count": 150,
   "metadata": {},
   "outputs": [],
   "source": [
    "def mark_bold(function):\n",
    "    def wrapper(*args, **kwargs):\n",
    "        return '<b>' + function(*args, **kwargs) + '</b>'\n",
    "    return wrapper\n",
    "\n",
    "def mark_italic(function):\n",
    "    def wrapper(*args, **kwargs):\n",
    "        return '<i>' + function(*args, **kwargs) + '</i>'\n",
    "    return wrapper"
   ]
  },
  {
   "cell_type": "code",
   "execution_count": 151,
   "metadata": {},
   "outputs": [
    {
     "name": "stdout",
     "output_type": "stream",
     "text": [
      "<b><i>안녕하세요</i></b>\n"
     ]
    }
   ],
   "source": [
    "@mark_bold\n",
    "@mark_italic\n",
    "def add_html(string):\n",
    "    return string\n",
    "    \n",
    "print(add_html(\"안녕하세요\"))"
   ]
  },
  {
   "cell_type": "code",
   "execution_count": 153,
   "metadata": {},
   "outputs": [
    {
     "data": {
      "text/html": [
       "<b>안녕</b>\n",
       "<i>안녕</i>\n",
       "<b><i>안녕</b></i>\n"
      ],
      "text/plain": [
       "<IPython.core.display.HTML object>"
      ]
     },
     "metadata": {},
     "output_type": "display_data"
    }
   ],
   "source": [
    "%%html\n",
    "<b>안녕</b>\n",
    "<i>안녕</i>\n",
    "<b><i>안녕</b></i>"
   ]
  },
  {
   "cell_type": "markdown",
   "metadata": {},
   "source": [
    "### Method Decorator\n",
    "- 클래스의 method에도 데코레이터 적용 가능\n",
    "    - 클래스 method는 첫 파라미터가 self 이므로 이 부분을 데코레이터 작성시에 포함시켜야 함"
   ]
  },
  {
   "cell_type": "code",
   "execution_count": 154,
   "metadata": {},
   "outputs": [],
   "source": [
    "# 데코레이터 작성하기(for method)\n",
    "def h1_tag(function):\n",
    "    def func_wrapper(self, *args, **kwargs):                           # <--- self 를 무조건 첫 파라미터로 넣어야 메소드에 적용 가능\n",
    "        return \"<h1>{0}</h1>\".format(function(self, *args, **kwargs))  # <--- function 함수에도 self 를 넣어야 함\n",
    "    return func_wrapper"
   ]
  },
  {
   "cell_type": "code",
   "execution_count": 155,
   "metadata": {},
   "outputs": [],
   "source": [
    "# 클래스 선언시 메소드에 데코레이터 적용하기\n",
    "class Person:\n",
    "    def __init__(self, first_name, last_name):\n",
    "        self.first_name = first_name\n",
    "        self.last_name = last_name\n",
    "        \n",
    "    @h1_tag\n",
    "    def get_name(self):\n",
    "        return self.first_name + ' ' + self.last_name\n"
   ]
  },
  {
   "cell_type": "code",
   "execution_count": 156,
   "metadata": {},
   "outputs": [
    {
     "name": "stdout",
     "output_type": "stream",
     "text": [
      "<h1>Mid Teemo</h1>\n"
     ]
    }
   ],
   "source": [
    "# 데코레이터 적용 확인해보기\n",
    "teemomid = Person('Mid', 'Teemo')\n",
    "print(teemomid.get_name())"
   ]
  },
  {
   "cell_type": "markdown",
   "metadata": {},
   "source": [
    "#### 파이썬 format() 함수 이해하기"
   ]
  },
  {
   "cell_type": "code",
   "execution_count": 157,
   "metadata": {},
   "outputs": [
    {
     "name": "stdout",
     "output_type": "stream",
     "text": [
      "10 100\n"
     ]
    }
   ],
   "source": [
    "print('{} {}'.format(10, 100))"
   ]
  },
  {
   "cell_type": "code",
   "execution_count": 158,
   "metadata": {},
   "outputs": [
    {
     "name": "stdout",
     "output_type": "stream",
     "text": [
      "10 20 10 100\n"
     ]
    }
   ],
   "source": [
    "print('{0} {2} {0} {1}'.format(10, 100, 20))"
   ]
  },
  {
   "cell_type": "code",
   "execution_count": 159,
   "metadata": {},
   "outputs": [
    {
     "name": "stdout",
     "output_type": "stream",
     "text": [
      "100 10\n"
     ]
    }
   ],
   "source": [
    "print('{1} {0}'.format(10, 100))"
   ]
  },
  {
   "cell_type": "code",
   "execution_count": 160,
   "metadata": {},
   "outputs": [
    {
     "name": "stdout",
     "output_type": "stream",
     "text": [
      "aaaa cccc\n"
     ]
    }
   ],
   "source": [
    "print('{aa} {bb}'.format(aa = 'aaaa', bb='cccc'))"
   ]
  },
  {
   "cell_type": "markdown",
   "metadata": {},
   "source": [
    "### 파라미터가 있는 Decorator 만들기(심화)\n",
    "- decorator에 파라미터를 추가 가능"
   ]
  },
  {
   "cell_type": "code",
   "execution_count": 166,
   "metadata": {},
   "outputs": [],
   "source": [
    "# 중첩 함수의 하나 더 깊게 두어 생성\n",
    "def decorator1(num):\n",
    "    def outer_wrapper(function):\n",
    "        def inner_wrapper(*args, **kwargs):\n",
    "            print('decorator1 {}'.format(num))\n",
    "            return function(*args, **kwargs)\n",
    "        return inner_wrapper\n",
    "    return outer_wrapper"
   ]
  },
  {
   "cell_type": "code",
   "execution_count": 173,
   "metadata": {},
   "outputs": [],
   "source": [
    "def print_hello():\n",
    "    print('hello')"
   ]
  },
  {
   "cell_type": "code",
   "execution_count": 174,
   "metadata": {},
   "outputs": [
    {
     "name": "stdout",
     "output_type": "stream",
     "text": [
      "decorator1 1\n",
      "hello\n"
     ]
    }
   ],
   "source": [
    "# 위와 같이 작성하면, 다음과 같이 호출할 수 있다.\n",
    "print_hello = decorator1(1)(print_hello)\n",
    "print_hello()"
   ]
  },
  {
   "cell_type": "code",
   "execution_count": 175,
   "metadata": {},
   "outputs": [],
   "source": [
    "# 이를 데코레이터로 표현하면 다음과 같다\n",
    "@decorator1(1)\n",
    "def print_hello():\n",
    "    print('hello')"
   ]
  },
  {
   "cell_type": "code",
   "execution_count": 176,
   "metadata": {},
   "outputs": [
    {
     "name": "stdout",
     "output_type": "stream",
     "text": [
      "decorator1 1\n",
      "hello\n"
     ]
    }
   ],
   "source": [
    "print_hello()"
   ]
  },
  {
   "cell_type": "markdown",
   "metadata": {},
   "source": [
    "#### 도전 과제\n",
    "HTML 웹페이지 태그와 같이 태그 이름을 넣으면 HTML 문법에 맞게 출력해주는 데코레이터를 만들기  \n",
    "해당 데코레이터를 사용해서 b, i, h1, h2, h3, h4, h5 ,h6, center 태그를 리스트로 넣어서 안녕하세요 출력해보기"
   ]
  },
  {
   "cell_type": "code",
   "execution_count": 179,
   "metadata": {},
   "outputs": [
    {
     "name": "stdout",
     "output_type": "stream",
     "text": [
      "<div>hello</div>\n"
     ]
    }
   ],
   "source": [
    "def mark_html(tag):\n",
    "    def outer_wrapper(function):\n",
    "        def inner_wrapper(*args, **kwargs):\n",
    "            return '<' + tag + '>' + function(*args, **kwargs) + '</' + tag + '>'\n",
    "        return inner_wrapper\n",
    "    return outer_wrapper\n",
    "\n",
    "@mark_html('div')\n",
    "def print_hello():\n",
    "    return 'hello'\n",
    "\n",
    "print(print_hello())"
   ]
  }
 ],
 "metadata": {
  "kernelspec": {
   "display_name": "Python 3",
   "language": "python",
   "name": "python3"
  },
  "language_info": {
   "codemirror_mode": {
    "name": "ipython",
    "version": 3
   },
   "file_extension": ".py",
   "mimetype": "text/x-python",
   "name": "python",
   "nbconvert_exporter": "python",
   "pygments_lexer": "ipython3",
   "version": "3.6.5"
  }
 },
 "nbformat": 4,
 "nbformat_minor": 2
}
