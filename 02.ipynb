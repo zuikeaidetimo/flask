{
 "cells": [
  {
   "cell_type": "code",
   "execution_count": 1,
   "metadata": {
    "scrolled": true
   },
   "outputs": [
    {
     "name": "stdout",
     "output_type": "stream",
     "text": [
      "Requirement already satisfied: flask in c:\\users\\teemo\\appdata\\local\\continuum\\anaconda3\\lib\\site-packages (0.12.2)\n",
      "Requirement already satisfied: Jinja2>=2.4 in c:\\users\\teemo\\appdata\\local\\continuum\\anaconda3\\lib\\site-packages (from flask) (2.11.2)\n",
      "Requirement already satisfied: Werkzeug>=0.7 in c:\\users\\teemo\\appdata\\local\\continuum\\anaconda3\\lib\\site-packages (from flask) (1.0.1)\n",
      "Requirement already satisfied: itsdangerous>=0.21 in c:\\users\\teemo\\appdata\\local\\continuum\\anaconda3\\lib\\site-packages (from flask) (0.24)\n",
      "Requirement already satisfied: click>=2.0 in c:\\users\\teemo\\appdata\\local\\continuum\\anaconda3\\lib\\site-packages (from flask) (6.7)\n",
      "Requirement already satisfied: MarkupSafe>=0.23 in c:\\users\\teemo\\appdata\\local\\continuum\\anaconda3\\lib\\site-packages (from Jinja2>=2.4->flask) (1.1.1)\n"
     ]
    }
   ],
   "source": [
    "!pip install flask"
   ]
  },
  {
   "cell_type": "code",
   "execution_count": 2,
   "metadata": {},
   "outputs": [],
   "source": [
    "from flask import Flask"
   ]
  },
  {
   "cell_type": "markdown",
   "metadata": {},
   "source": [
    "### Flask 객체를 app에 할당"
   ]
  },
  {
   "cell_type": "code",
   "execution_count": 3,
   "metadata": {},
   "outputs": [],
   "source": [
    "app = Flask(__name__)"
   ]
  },
  {
   "cell_type": "code",
   "execution_count": 4,
   "metadata": {},
   "outputs": [
    {
     "data": {
      "text/plain": [
       "'__main__'"
      ]
     },
     "execution_count": 4,
     "metadata": {},
     "output_type": "execute_result"
    }
   ],
   "source": [
    "__name__"
   ]
  },
  {
   "cell_type": "markdown",
   "metadata": {},
   "source": [
    "### ```__name__``` 이란?\n",
    "- ```__name__``` 이라는 변수는 모듈의 이름이 저장됨\n",
    "- 실행하는 코드에서는 ```__main__``` 값이 들어감"
   ]
  },
  {
   "cell_type": "markdown",
   "metadata": {},
   "source": [
    "### test.py\n",
    "```python\n",
    "print('test.py __name__:', __name__)\n",
    "```"
   ]
  },
  {
   "cell_type": "markdown",
   "metadata": {},
   "source": [
    "### start.py\n",
    "```python\n",
    "import test\n",
    "\n",
    "print('start.py __name__:', __name__)```\n",
    "\n",
    "> start.py를 시작하면\n",
    "\n",
    "```python\n",
    "test.py __name__: test\n",
    "start.py __name__: __main__\n",
    "```"
   ]
  },
  {
   "cell_type": "markdown",
   "metadata": {},
   "source": [
    "### 시작점(entry porint)\n",
    "- C, JAVA와 같은 보통의 언어는 코드를 시작하는 시작점(entry point)를 가지고 있음\n",
    "- 예:\n",
    "```java\n",
    "int main(int argc, char *argv[])\n",
    "{\n",
    "    return 0;\n",
    "}\n",
    "```"
   ]
  },
  {
   "cell_type": "markdown",
   "metadata": {},
   "source": [
    "### 파이썬과 시작점(entry point)\n",
    "- 파이썬은 스크립트 언어\n",
    "- 스크립트 언어는 전통적으로 시작점없이 스크립트 코드를 바로 실행함"
   ]
  },
  {
   "cell_type": "markdown",
   "metadata": {},
   "source": [
    "### 모듈이 아니라, 해당 코드 직접 실행시만 실행되는 코드"
   ]
  },
  {
   "cell_type": "code",
   "execution_count": 5,
   "metadata": {},
   "outputs": [
    {
     "name": "stdout",
     "output_type": "stream",
     "text": [
      "11\n",
      "12\n"
     ]
    }
   ],
   "source": [
    "def add_one(data):\n",
    "    return data + 1\n",
    "def add_two(data):\n",
    "    return data + 2\n",
    "\n",
    "if __name__ == '__main__': # 모듈이 아니라, 해당 코드 직접 실행시만 실행\n",
    "    print(add_one(10))\n",
    "    print(add_two(10))"
   ]
  },
  {
   "cell_type": "markdown",
   "metadata": {},
   "source": [
    "### flask 객체 생성\n",
    "- Flask(```__name__```)으로 설정하여, 현재 위치를 flask 객체에 알려줘야 함\n",
    "    - 이름을 변경해도 정상 실행되지만, 일부 확장 기능 사용시에는 해당 이름을 정확히 알려주지 않을 경우, 정상 동작되지 않음"
   ]
  },
  {
   "cell_type": "code",
   "execution_count": 6,
   "metadata": {},
   "outputs": [],
   "source": [
    "from flask import Flask\n",
    "app = Flask(__name__)"
   ]
  },
  {
   "cell_type": "code",
   "execution_count": 7,
   "metadata": {},
   "outputs": [
    {
     "data": {
      "text/plain": [
       "<Flask '__main__'>"
      ]
     },
     "execution_count": 7,
     "metadata": {},
     "output_type": "execute_result"
    }
   ],
   "source": [
    "app"
   ]
  },
  {
   "cell_type": "markdown",
   "metadata": {},
   "source": [
    "### 라우팅 경로를 설정"
   ]
  },
  {
   "cell_type": "markdown",
   "metadata": {},
   "source": [
    "### URL이란\n",
    "- Uniform Resource Locator\n",
    "- 인터넷 상의 자원 위치 표기를 위한 규약\n",
    "- WWW 주요 요소 중 하나: HTML, URL, HTTP\n",
    "\n",
    "### 참고: URL vs URI\n",
    "- URI(Uniform Resource Identifier): 통합 자원 식별자\n",
    "- URI의 하위 개념이 URL\n",
    "    - https://www.fun-coding.org 주소\n",
    "        - https://www.fun-coding.org 라는 서버를 나타내는 URL이면서 URI\n",
    "    - https://www.fun-coding.org/input?id=dave&pw=1111 주소\n",
    "        - https://www.fun-coding.org/input 은 URL\n",
    "            - httsp://www.fun-coding.org/input?id=dave&pw=1111 은 URI\n",
    "            - 내가 원하는 정보를 얻기 위해서는 __?id=dave&pw=1111__ 라는 식별자가 필요하기 때문\n",
    "            \n",
    ">두 용어는 혼용하고 있으므로, 참고로만 이해"
   ]
  },
  {
   "cell_type": "markdown",
   "metadata": {},
   "source": [
    "### 라우팅(route)이란?\n",
    "- 적절한 목적지를 찾아주는 기능\n",
    "- URL 을 해당 URL에 맞는 기능과 연결해 줌\n",
    "    - 예:\n",
    "        - http://www.fun-coding.org/hello\n",
    "        - http://www.fun-coding.org 서버에서 hello 이라는 목적지에 맞는 함수를 호출해줌"
   ]
  },
  {
   "cell_type": "code",
   "execution_count": 8,
   "metadata": {},
   "outputs": [],
   "source": [
    "@app.route(\"/hello\") # 반드시 /로 시작해야함\n",
    "def hello():\n",
    "    return \"<h1>Hello World!</h1>\""
   ]
  },
  {
   "cell_type": "markdown",
   "metadata": {},
   "source": [
    "- @ 으로 시작하는 코드는 데코레이터라고 함"
   ]
  },
  {
   "cell_type": "markdown",
   "metadata": {},
   "source": [
    "### 메인 모듈로 실행될 때 flask 웹 서버 구동\n",
    "- 서버로 구동한 IP와 포트를 옵션으로 넣어줄 수 있음\n",
    "- app.run() 함수로 서버 구동 가능\n",
    "    - host, port, debug 를 주로 사용함\n",
    "        - host: 웹주소\n",
    "        - port: 포트\n",
    "        - debug: True or False\n",
    "        \n",
    "```python\n",
    "run(host=None, port=None, debug=True)```"
   ]
  },
  {
   "cell_type": "markdown",
   "metadata": {},
   "source": [
    "### 참고: Web Server와 WAS 프레임워크\n",
    "- 웹서버는 정적인 HTML 페이지를 반환한다.\n",
    "    - 요청에 따른 정적인 데이터를 반환한다.\n",
    "- 웹서버가 동적으로 데이터를 반환하도록 하기 위해서는, WAS 프레임워크가 필요하다\n",
    "    - 주요 WAS 프레임워크로는 flask, django, rails, node.js 등이 있다.\n",
    "\n",
    "> 상용화를 위해서는 별도 전문 웹서버를 사용해야 하지만, flask는 기본 Web Server 도 간단한 명령으로 제공함"
   ]
  },
  {
   "cell_type": "markdown",
   "metadata": {},
   "source": [
    "### 기본 개발 프로세스\n",
    "- 자신의 PC에서 웹 서비스 구현\n",
    "    - localhost, 127.0.0.1, 또는 0.0.0.0 으로 host 설정\n",
    "    - app.run()함수로 자체 웹서버 구현 가능"
   ]
  },
  {
   "cell_type": "code",
   "execution_count": 9,
   "metadata": {},
   "outputs": [],
   "source": [
    "host_addr = \"0.0.0.0\"\n",
    "port_num = \"8080\""
   ]
  },
  {
   "cell_type": "code",
   "execution_count": null,
   "metadata": {},
   "outputs": [],
   "source": [
    "if __name__ == \"__main__\":\n",
    "    app.run(host=host_addr, port=port_num)"
   ]
  },
  {
   "cell_type": "markdown",
   "metadata": {},
   "source": [
    "### 전체 기본 코드"
   ]
  },
  {
   "cell_type": "code",
   "execution_count": null,
   "metadata": {},
   "outputs": [],
   "source": [
    "from flask import Flask\n",
    "\n",
    "app = Flask(__name__)\n",
    "@app.route(\"/hello\")\n",
    "def hello():\n",
    "    return \"<h1>Hello Flask!</h1>\"\n",
    "\n",
    "if __name__ == \"__main__\":\n",
    "    app.run(host=\"127.0.0.1\", port=\"8080\")"
   ]
  },
  {
   "cell_type": "markdown",
   "metadata": {},
   "source": [
    "- flask 라이브러리를 사용한 코드는 보통 파일이름.py로 작성한 후\n",
    "    - python 파일이름.py\n",
    "- 위와 같이 서버에서 실행하는 것이 일반적\n",
    "- 노트북에서는 실행 후, 테스트 끝나면, Terminate 눌러줘야 함"
   ]
  }
 ],
 "metadata": {
  "kernelspec": {
   "display_name": "Python 3",
   "language": "python",
   "name": "python3"
  },
  "language_info": {
   "codemirror_mode": {
    "name": "ipython",
    "version": 3
   },
   "file_extension": ".py",
   "mimetype": "text/x-python",
   "name": "python",
   "nbconvert_exporter": "python",
   "pygments_lexer": "ipython3",
   "version": "3.6.5"
  }
 },
 "nbformat": 4,
 "nbformat_minor": 2
}
